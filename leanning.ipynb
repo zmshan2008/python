{
 "cells": [
  {
   "cell_type": "code",
   "execution_count": 34,
   "metadata": {},
   "outputs": [
    {
     "ename": "SyntaxError",
     "evalue": "EOL while scanning string literal (<ipython-input-34-8f8764ab2512>, line 13)",
     "output_type": "error",
     "traceback": [
      "\u001b[1;36m  File \u001b[1;32m\"<ipython-input-34-8f8764ab2512>\"\u001b[1;36m, line \u001b[1;32m13\u001b[0m\n\u001b[1;33m    path = r\"F:\\\"\u001b[0m\n\u001b[1;37m                 ^\u001b[0m\n\u001b[1;31mSyntaxError\u001b[0m\u001b[1;31m:\u001b[0m EOL while scanning string literal\n"
     ]
    }
   ],
   "source": [
    "#!/usr/bin/python\n",
    "# -*- coding: UTF-8 -*- \n",
    "\n",
    "import os \n",
    "\n",
    "def VisitDir(path):\n",
    "    for root,dirs,files in os.walk(path):\n",
    "        for filepath in files:\n",
    "            print(os.path.join(root,filepath))\n",
    "\n",
    "            \n",
    "if __name__ == \"__main__\":\n",
    "    path = r \"F:\\\"\n",
    "    VisitDir(path)\n"
   ]
  },
  {
   "cell_type": "code",
   "execution_count": null,
   "metadata": {},
   "outputs": [],
   "source": []
  },
  {
   "cell_type": "code",
   "execution_count": 5,
   "metadata": {},
   "outputs": [],
   "source": [
    "#! /usr/bin/python\n",
    "# -*- confing:UTF-8 -*-\n",
    "\n",
    "import os\n",
    "\n",
    "context = '''hello world'''\n",
    "f = open(\"hello.txt\",\"w\")\n",
    "#li = [\"hello world\\n\",\"hello china\\n\"]\n",
    "f.write(context)\n",
    "f.close()"
   ]
  },
  {
   "cell_type": "code",
   "execution_count": 6,
   "metadata": {},
   "outputs": [
    {
     "name": "stdout",
     "output_type": "stream",
     "text": [
      "hello world\n"
     ]
    }
   ],
   "source": [
    "f = open(\"hello.txt\")\n",
    "while True:\n",
    "    line = f.readline()\n",
    "    if line:\n",
    "        print(line)\n",
    "    else:\n",
    "        break\n",
    "f.close()"
   ]
  },
  {
   "cell_type": "code",
   "execution_count": 8,
   "metadata": {},
   "outputs": [
    {
     "name": "stdout",
     "output_type": "stream",
     "text": [
      "hello world\n"
     ]
    }
   ],
   "source": [
    "f= open('hello.txt')\n",
    "lines = f.readlines()\n",
    "for line in lines:\n",
    "    print(line)\n",
    "f.close()"
   ]
  },
  {
   "cell_type": "code",
   "execution_count": 10,
   "metadata": {},
   "outputs": [
    {
     "name": "stdout",
     "output_type": "stream",
     "text": [
      "hello world\n"
     ]
    }
   ],
   "source": [
    "f = open(\"hello.txt\")\n",
    "context = f.read()\n",
    "print(context)\n",
    "f.close()"
   ]
  },
  {
   "cell_type": "code",
   "execution_count": 12,
   "metadata": {},
   "outputs": [
    {
     "name": "stdout",
     "output_type": "stream",
     "text": [
      "hello\n",
      "5\n",
      " worl\n",
      "10\n"
     ]
    }
   ],
   "source": [
    "f =open(\"hello.txt\")\n",
    "context = f.read(5)\n",
    "print(context)\n",
    "print(f.tell())\n",
    "context=f.read(5)\n",
    "print(context)\n",
    "print(f.tell())\n",
    "f.close()"
   ]
  },
  {
   "cell_type": "code",
   "execution_count": 13,
   "metadata": {},
   "outputs": [],
   "source": [
    "f = open(\"hello.txt\",\"w+\")\n",
    "li = [\"hello world\\n\",\"hello china\\n\"]\n",
    "f.writelines(li)\n",
    "f.close()"
   ]
  },
  {
   "cell_type": "code",
   "execution_count": 15,
   "metadata": {},
   "outputs": [],
   "source": [
    "f = open(\"hello.txt\",\"a+\")\n",
    "new_context = \"googbye\"\n",
    "f.writelines(new_context)\n",
    "f.close()"
   ]
  },
  {
   "cell_type": "code",
   "execution_count": null,
   "metadata": {},
   "outputs": [],
   "source": []
  }
 ],
 "metadata": {
  "kernelspec": {
   "display_name": "Python 3",
   "language": "python",
   "name": "python3"
  },
  "language_info": {
   "codemirror_mode": {
    "name": "ipython",
    "version": 3
   },
   "file_extension": ".py",
   "mimetype": "text/x-python",
   "name": "python",
   "nbconvert_exporter": "python",
   "pygments_lexer": "ipython3",
   "version": "3.7.7"
  }
 },
 "nbformat": 4,
 "nbformat_minor": 4
}
